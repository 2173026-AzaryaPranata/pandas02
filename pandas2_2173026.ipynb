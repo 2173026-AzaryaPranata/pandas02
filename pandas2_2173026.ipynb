{
 "cells": [
  {
   "cell_type": "code",
   "execution_count": null,
   "id": "776f201f",
   "metadata": {},
   "outputs": [],
   "source": [
    "import pandas as pd\n",
    "import numpy as np\n",
    "\n",
    "print(pd.__ersion__)\n",
    "print(np.__version__)"
   ]
  },
  {
   "cell_type": "code",
   "execution_count": null,
   "id": "578906e7",
   "metadata": {},
   "outputs": [],
   "source": [
    "n_rows=5\n",
    "n_cols=5\n",
    "cols=tuple('ABCDE')\n",
    "\n",
    "df=pd.DataFrame(np.random.randint(1, 10, size=(n_rows, n_cols)),\n",
    "               colums=cols)\n",
    "df"
   ]
  },
  {
   "cell_type": "code",
   "execution_count": null,
   "id": "3aa13628",
   "metadata": {},
   "outputs": [],
   "source": [
    "df.loc[loc:, ::-1]"
   ]
  },
  {
   "cell_type": "code",
   "execution_count": null,
   "id": "54317df2",
   "metadata": {},
   "outputs": [],
   "source": [
    "df.loc[::-1].reset_index(drop=True)"
   ]
  },
  {
   "cell_type": "code",
   "execution_count": null,
   "id": "0e65a8d2",
   "metadata": {},
   "outputs": [],
   "source": [
    "import pandas as pd\n",
    "import numpy as np\n",
    "\n",
    "print(pd.__ersion__)\n",
    "print(np.__version__)"
   ]
  },
  {
   "cell_type": "code",
   "execution_count": null,
   "id": "dc0fe38a",
   "metadata": {},
   "outputs": [],
   "source": [
    "n_rows=5\n",
    "n_cols=5\n",
    "cols=tuple('ABCDE')\n",
    "\n",
    "df=pd.DataFrame(np.random.randint(1, 10, size=(n_rows, n_cols)),\n",
    "               colums=cols)\n",
    "df"
   ]
  },
  {
   "cell_type": "code",
   "execution_count": null,
   "id": "390e03e1",
   "metadata": {},
   "outputs": [],
   "source": [
    "df.rename(colums={'C':'Hobi'})"
   ]
  },
  {
   "cell_type": "code",
   "execution_count": null,
   "id": "df9e209f",
   "metadata": {},
   "outputs": [],
   "source": [
    "df.rename(colums={'A':'Nama', 'B':'Alamat', 'D':'Kota'})"
   ]
  },
  {
   "cell_type": "code",
   "execution_count": null,
   "id": "4b0c9b29",
   "metadata": {},
   "outputs": [],
   "source": [
    "import pandas as pd\n",
    "\n",
    "print(pd.__version__)"
   ]
  },
  {
   "cell_type": "code",
   "execution_count": null,
   "id": "b793941e",
   "metadata": {},
   "outputs": [],
   "source": [
    "df=pd.util.testing.makeMissingDataframe().reset_index()\n",
    "df.head()"
   ]
  },
  {
   "cell_type": "code",
   "execution_count": null,
   "id": "0606fefc",
   "metadata": {},
   "outputs": [],
   "source": [
    "df=df.rename(columns={'index':'Z'})\\\n",
    "df.head()"
   ]
  },
  {
   "cell_type": "code",
   "execution_count": null,
   "id": "1a080251",
   "metadata": {},
   "outputs": [],
   "source": [
    "df_backup=df.copy(deep=True)"
   ]
  },
  {
   "cell_type": "code",
   "execution_count": null,
   "id": "c75cd10f",
   "metadata": {},
   "outputs": [],
   "source": [
    "df=df.dropna(axis='columns')\n",
    "df.head()"
   ]
  },
  {
   "cell_type": "code",
   "execution_count": null,
   "id": "582ad5b3",
   "metadata": {},
   "outputs": [],
   "source": [
    "df=df_backup.copy(deep=True)\n",
    "df=df.dropmax(axis='rows')\n",
    "df.head()"
   ]
  },
  {
   "cell_type": "code",
   "execution_count": null,
   "id": "072e7a75",
   "metadata": {},
   "outputs": [],
   "source": [
    "df=df_backup.copy(deep=True)\n",
    "df.isna().mean()\n"
   ]
  },
  {
   "cell_type": "code",
   "execution_count": null,
   "id": "6255ef07",
   "metadata": {},
   "outputs": [],
   "source": [
    "treshold=lend(df)*0.9\n",
    "df=df.dropna(thresh=threshold,axis='columns')\n",
    "df.head()"
   ]
  },
  {
   "cell_type": "code",
   "execution_count": null,
   "id": "8d8a0ef5",
   "metadata": {},
   "outputs": [],
   "source": [
    "import pandas as pd\n",
    "import numpy as np\n",
    "\n",
    "print(pd.__ersion__)\n",
    "print(np.__version__)"
   ]
  },
  {
   "cell_type": "code",
   "execution_count": null,
   "id": "8f5e5f7f",
   "metadata": {},
   "outputs": [],
   "source": [
    "data={'A':[15,15, 18, np.nan, 12],\n",
    "     'B':[15, 15, 18, np.nan, 12]}\n",
    "df=pd.DataFrame(data)\n",
    "df"
   ]
  },
  {
   "cell_type": "code",
   "execution_count": null,
   "id": "350b91e9",
   "metadata": {},
   "outputs": [],
   "source": [
    "df('A')"
   ]
  },
  {
   "cell_type": "code",
   "execution_count": null,
   "id": "0d1e5f09",
   "metadata": {},
   "outputs": [],
   "source": [
    "type(df['A'])"
   ]
  },
  {
   "cell_type": "code",
   "execution_count": null,
   "id": "ffb0c0eb",
   "metadata": {},
   "outputs": [],
   "source": [
    "type(df)"
   ]
  },
  {
   "cell_type": "code",
   "execution_count": null,
   "id": "ff37138d",
   "metadata": {},
   "outputs": [],
   "source": [
    "df['A']===df['B']"
   ]
  },
  {
   "cell_type": "code",
   "execution_count": null,
   "id": "b27e516e",
   "metadata": {},
   "outputs": [],
   "source": [
    "df['A'].equeals(df['B'])"
   ]
  },
  {
   "cell_type": "code",
   "execution_count": null,
   "id": "9a29e3ce",
   "metadata": {},
   "outputs": [],
   "source": [
    "df1=df.copy(deep=True)\n",
    "\n",
    "df.equals(df1)"
   ]
  },
  {
   "cell_type": "code",
   "execution_count": null,
   "id": "c1eaadcb",
   "metadata": {},
   "outputs": [],
   "source": [
    "df==df1"
   ]
  },
  {
   "cell_type": "code",
   "execution_count": null,
   "id": "c6d963d6",
   "metadata": {},
   "outputs": [],
   "source": []
  },
  {
   "cell_type": "code",
   "execution_count": null,
   "id": "d3049d0c",
   "metadata": {},
   "outputs": [],
   "source": []
  }
 ],
 "metadata": {
  "kernelspec": {
   "display_name": "Python 3 (ipykernel)",
   "language": "python",
   "name": "python3"
  },
  "language_info": {
   "codemirror_mode": {
    "name": "ipython",
    "version": 3
   },
   "file_extension": ".py",
   "mimetype": "text/x-python",
   "name": "python",
   "nbconvert_exporter": "python",
   "pygments_lexer": "ipython3",
   "version": "3.10.7"
  }
 },
 "nbformat": 4,
 "nbformat_minor": 5
}
